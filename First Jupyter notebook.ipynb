{
  "metadata": {
    "language_info": {
      "name": ""
    },
    "kernelspec": {
      "name": ""
    }
  },
  "nbformat_minor": 4,
  "nbformat": 4,
  "cells": [
    {
      "cell_type": "markdown",
      "source": "<H1>My Jupyter Notebook on IBM Watson Studio</H1>",
      "metadata": {}
    },
    {
      "cell_type": "markdown",
      "source": "<b>Vishwanath S. Kamatar</b></br>\nStudent",
      "metadata": {}
    },
    {
      "cell_type": "markdown",
      "source": "I am interested in data science because I think data science is the future of data. Data science is the future of applied econometrics.",
      "metadata": {}
    },
    {
      "cell_type": "markdown",
      "source": "<H3>addition of two numbers</H3>",
      "metadata": {}
    },
    {
      "cell_type": "code",
      "source": "5+3",
      "metadata": {
        "trusted": true
      },
      "execution_count": null,
      "outputs": []
    },
    {
      "cell_type": "code",
      "source": "<ul>\n  <li>Coffee</li>\n  <li>Tea</li>\n  <li>Milk</li>\n</ul>\n\n<ol>\n  <li>Coffee</li>\n  <li>Tea</li>\n  <li>Milk</li>\n</ol>\n\n<a href=\"url\">link text</a>",
      "metadata": {},
      "execution_count": null,
      "outputs": []
    }
  ]
}